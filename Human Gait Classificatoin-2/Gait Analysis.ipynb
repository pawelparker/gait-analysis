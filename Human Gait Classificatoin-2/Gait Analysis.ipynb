{
 "cells": [
  {
   "cell_type": "code",
   "execution_count": 1,
   "metadata": {},
   "outputs": [],
   "source": [
    "import matplotlib.pyplot as plt\n",
    "import pandas as pd\n",
    "import numpy as np\n",
    "import seaborn as sns\n",
    "from sklearn.model_selection import train_test_split\n",
    "from sklearn.metrics import confusion_matrix,classification_report,accuracy_score"
   ]
  },
  {
   "cell_type": "markdown",
   "metadata": {},
   "source": [
    "# Data Importing, Preprocessing and Preparation"
   ]
  },
  {
   "cell_type": "code",
   "execution_count": 2,
   "metadata": {},
   "outputs": [],
   "source": [
    "df=pd.read_csv('gait_data.csv')"
   ]
  },
  {
   "cell_type": "code",
   "execution_count": 3,
   "metadata": {},
   "outputs": [
    {
     "data": {
      "text/html": [
       "<div>\n",
       "<style scoped>\n",
       "    .dataframe tbody tr th:only-of-type {\n",
       "        vertical-align: middle;\n",
       "    }\n",
       "\n",
       "    .dataframe tbody tr th {\n",
       "        vertical-align: top;\n",
       "    }\n",
       "\n",
       "    .dataframe thead th {\n",
       "        text-align: right;\n",
       "    }\n",
       "</style>\n",
       "<table border=\"1\" class=\"dataframe\">\n",
       "  <thead>\n",
       "    <tr style=\"text-align: right;\">\n",
       "      <th></th>\n",
       "      <th>Unnamed: 0</th>\n",
       "      <th>% Gait Cycle</th>\n",
       "      <th>Pelvic Ant/Posterior Tilt</th>\n",
       "      <th>Hip Flex/Extension</th>\n",
       "      <th>Hip Ad/Abduction</th>\n",
       "      <th>Hip Int/External Rotation</th>\n",
       "      <th>Knee Flex/Extension</th>\n",
       "      <th>Ankle Dorsi/Plantarflexion</th>\n",
       "      <th>Position</th>\n",
       "    </tr>\n",
       "  </thead>\n",
       "  <tbody>\n",
       "    <tr>\n",
       "      <td>0</td>\n",
       "      <td>NORMAL</td>\n",
       "      <td>0%</td>\n",
       "      <td>-2.8</td>\n",
       "      <td>27.9</td>\n",
       "      <td>0.5</td>\n",
       "      <td>0.3</td>\n",
       "      <td>8.8</td>\n",
       "      <td>-21.9</td>\n",
       "      <td>NORMAL</td>\n",
       "    </tr>\n",
       "    <tr>\n",
       "      <td>1</td>\n",
       "      <td>NaN</td>\n",
       "      <td>1%</td>\n",
       "      <td>-2.8</td>\n",
       "      <td>27.8</td>\n",
       "      <td>0.9</td>\n",
       "      <td>0.6</td>\n",
       "      <td>10.2</td>\n",
       "      <td>-22.5</td>\n",
       "      <td>NORMAL</td>\n",
       "    </tr>\n",
       "    <tr>\n",
       "      <td>2</td>\n",
       "      <td>NaN</td>\n",
       "      <td>2%</td>\n",
       "      <td>-2.8</td>\n",
       "      <td>27.7</td>\n",
       "      <td>1.4</td>\n",
       "      <td>1.0</td>\n",
       "      <td>11.5</td>\n",
       "      <td>-23.1</td>\n",
       "      <td>NORMAL</td>\n",
       "    </tr>\n",
       "    <tr>\n",
       "      <td>3</td>\n",
       "      <td>NaN</td>\n",
       "      <td>3%</td>\n",
       "      <td>-2.7</td>\n",
       "      <td>27.6</td>\n",
       "      <td>1.9</td>\n",
       "      <td>1.4</td>\n",
       "      <td>12.9</td>\n",
       "      <td>-23.7</td>\n",
       "      <td>NORMAL</td>\n",
       "    </tr>\n",
       "    <tr>\n",
       "      <td>4</td>\n",
       "      <td>NaN</td>\n",
       "      <td>4%</td>\n",
       "      <td>-2.7</td>\n",
       "      <td>27.5</td>\n",
       "      <td>2.5</td>\n",
       "      <td>1.8</td>\n",
       "      <td>14.5</td>\n",
       "      <td>-24.1</td>\n",
       "      <td>NORMAL</td>\n",
       "    </tr>\n",
       "  </tbody>\n",
       "</table>\n",
       "</div>"
      ],
      "text/plain": [
       "  Unnamed: 0 % Gait Cycle  Pelvic Ant/Posterior Tilt  Hip Flex/Extension  \\\n",
       "0     NORMAL           0%                       -2.8                27.9   \n",
       "1        NaN           1%                       -2.8                27.8   \n",
       "2        NaN           2%                       -2.8                27.7   \n",
       "3        NaN           3%                       -2.7                27.6   \n",
       "4        NaN           4%                       -2.7                27.5   \n",
       "\n",
       "   Hip Ad/Abduction  Hip Int/External Rotation  Knee Flex/Extension  \\\n",
       "0               0.5                        0.3                  8.8   \n",
       "1               0.9                        0.6                 10.2   \n",
       "2               1.4                        1.0                 11.5   \n",
       "3               1.9                        1.4                 12.9   \n",
       "4               2.5                        1.8                 14.5   \n",
       "\n",
       "   Ankle Dorsi/Plantarflexion Position  \n",
       "0                       -21.9   NORMAL  \n",
       "1                       -22.5   NORMAL  \n",
       "2                       -23.1   NORMAL  \n",
       "3                       -23.7   NORMAL  \n",
       "4                       -24.1   NORMAL  "
      ]
     },
     "execution_count": 3,
     "metadata": {},
     "output_type": "execute_result"
    }
   ],
   "source": [
    "df.head()"
   ]
  },
  {
   "cell_type": "code",
   "execution_count": 4,
   "metadata": {},
   "outputs": [],
   "source": [
    "df = df.drop(df.columns[[0]], axis=1) "
   ]
  },
  {
   "cell_type": "code",
   "execution_count": 5,
   "metadata": {},
   "outputs": [
    {
     "data": {
      "text/html": [
       "<div>\n",
       "<style scoped>\n",
       "    .dataframe tbody tr th:only-of-type {\n",
       "        vertical-align: middle;\n",
       "    }\n",
       "\n",
       "    .dataframe tbody tr th {\n",
       "        vertical-align: top;\n",
       "    }\n",
       "\n",
       "    .dataframe thead th {\n",
       "        text-align: right;\n",
       "    }\n",
       "</style>\n",
       "<table border=\"1\" class=\"dataframe\">\n",
       "  <thead>\n",
       "    <tr style=\"text-align: right;\">\n",
       "      <th></th>\n",
       "      <th>% Gait Cycle</th>\n",
       "      <th>Pelvic Ant/Posterior Tilt</th>\n",
       "      <th>Hip Flex/Extension</th>\n",
       "      <th>Hip Ad/Abduction</th>\n",
       "      <th>Hip Int/External Rotation</th>\n",
       "      <th>Knee Flex/Extension</th>\n",
       "      <th>Ankle Dorsi/Plantarflexion</th>\n",
       "      <th>Position</th>\n",
       "    </tr>\n",
       "  </thead>\n",
       "  <tbody>\n",
       "    <tr>\n",
       "      <td>0</td>\n",
       "      <td>0%</td>\n",
       "      <td>-2.8</td>\n",
       "      <td>27.9</td>\n",
       "      <td>0.5</td>\n",
       "      <td>0.3</td>\n",
       "      <td>8.8</td>\n",
       "      <td>-21.9</td>\n",
       "      <td>NORMAL</td>\n",
       "    </tr>\n",
       "    <tr>\n",
       "      <td>1</td>\n",
       "      <td>1%</td>\n",
       "      <td>-2.8</td>\n",
       "      <td>27.8</td>\n",
       "      <td>0.9</td>\n",
       "      <td>0.6</td>\n",
       "      <td>10.2</td>\n",
       "      <td>-22.5</td>\n",
       "      <td>NORMAL</td>\n",
       "    </tr>\n",
       "    <tr>\n",
       "      <td>2</td>\n",
       "      <td>2%</td>\n",
       "      <td>-2.8</td>\n",
       "      <td>27.7</td>\n",
       "      <td>1.4</td>\n",
       "      <td>1.0</td>\n",
       "      <td>11.5</td>\n",
       "      <td>-23.1</td>\n",
       "      <td>NORMAL</td>\n",
       "    </tr>\n",
       "    <tr>\n",
       "      <td>3</td>\n",
       "      <td>3%</td>\n",
       "      <td>-2.7</td>\n",
       "      <td>27.6</td>\n",
       "      <td>1.9</td>\n",
       "      <td>1.4</td>\n",
       "      <td>12.9</td>\n",
       "      <td>-23.7</td>\n",
       "      <td>NORMAL</td>\n",
       "    </tr>\n",
       "    <tr>\n",
       "      <td>4</td>\n",
       "      <td>4%</td>\n",
       "      <td>-2.7</td>\n",
       "      <td>27.5</td>\n",
       "      <td>2.5</td>\n",
       "      <td>1.8</td>\n",
       "      <td>14.5</td>\n",
       "      <td>-24.1</td>\n",
       "      <td>NORMAL</td>\n",
       "    </tr>\n",
       "    <tr>\n",
       "      <td>...</td>\n",
       "      <td>...</td>\n",
       "      <td>...</td>\n",
       "      <td>...</td>\n",
       "      <td>...</td>\n",
       "      <td>...</td>\n",
       "      <td>...</td>\n",
       "      <td>...</td>\n",
       "      <td>...</td>\n",
       "    </tr>\n",
       "    <tr>\n",
       "      <td>904</td>\n",
       "      <td>96%</td>\n",
       "      <td>-3.6</td>\n",
       "      <td>24.8</td>\n",
       "      <td>1.9</td>\n",
       "      <td>2.9</td>\n",
       "      <td>31.0</td>\n",
       "      <td>-19.9</td>\n",
       "      <td>STAIRCASE DESCENDING</td>\n",
       "    </tr>\n",
       "    <tr>\n",
       "      <td>905</td>\n",
       "      <td>97%</td>\n",
       "      <td>-3.6</td>\n",
       "      <td>23.6</td>\n",
       "      <td>1.9</td>\n",
       "      <td>3.0</td>\n",
       "      <td>28.2</td>\n",
       "      <td>-20.5</td>\n",
       "      <td>STAIRCASE DESCENDING</td>\n",
       "    </tr>\n",
       "    <tr>\n",
       "      <td>906</td>\n",
       "      <td>98%</td>\n",
       "      <td>-3.6</td>\n",
       "      <td>22.4</td>\n",
       "      <td>1.8</td>\n",
       "      <td>3.2</td>\n",
       "      <td>25.9</td>\n",
       "      <td>-20.9</td>\n",
       "      <td>STAIRCASE DESCENDING</td>\n",
       "    </tr>\n",
       "    <tr>\n",
       "      <td>907</td>\n",
       "      <td>99%</td>\n",
       "      <td>-3.5</td>\n",
       "      <td>21.1</td>\n",
       "      <td>1.8</td>\n",
       "      <td>3.5</td>\n",
       "      <td>24.2</td>\n",
       "      <td>-20.7</td>\n",
       "      <td>STAIRCASE DESCENDING</td>\n",
       "    </tr>\n",
       "    <tr>\n",
       "      <td>908</td>\n",
       "      <td>100%</td>\n",
       "      <td>-3.5</td>\n",
       "      <td>20.1</td>\n",
       "      <td>1.7</td>\n",
       "      <td>3.6</td>\n",
       "      <td>22.7</td>\n",
       "      <td>-20.6</td>\n",
       "      <td>STAIRCASE DESCENDING</td>\n",
       "    </tr>\n",
       "  </tbody>\n",
       "</table>\n",
       "<p>909 rows × 8 columns</p>\n",
       "</div>"
      ],
      "text/plain": [
       "    % Gait Cycle  Pelvic Ant/Posterior Tilt  Hip Flex/Extension  \\\n",
       "0             0%                       -2.8                27.9   \n",
       "1             1%                       -2.8                27.8   \n",
       "2             2%                       -2.8                27.7   \n",
       "3             3%                       -2.7                27.6   \n",
       "4             4%                       -2.7                27.5   \n",
       "..           ...                        ...                 ...   \n",
       "904          96%                       -3.6                24.8   \n",
       "905          97%                       -3.6                23.6   \n",
       "906          98%                       -3.6                22.4   \n",
       "907          99%                       -3.5                21.1   \n",
       "908         100%                       -3.5                20.1   \n",
       "\n",
       "     Hip Ad/Abduction  Hip Int/External Rotation  Knee Flex/Extension  \\\n",
       "0                 0.5                        0.3                  8.8   \n",
       "1                 0.9                        0.6                 10.2   \n",
       "2                 1.4                        1.0                 11.5   \n",
       "3                 1.9                        1.4                 12.9   \n",
       "4                 2.5                        1.8                 14.5   \n",
       "..                ...                        ...                  ...   \n",
       "904               1.9                        2.9                 31.0   \n",
       "905               1.9                        3.0                 28.2   \n",
       "906               1.8                        3.2                 25.9   \n",
       "907               1.8                        3.5                 24.2   \n",
       "908               1.7                        3.6                 22.7   \n",
       "\n",
       "     Ankle Dorsi/Plantarflexion              Position  \n",
       "0                         -21.9                NORMAL  \n",
       "1                         -22.5                NORMAL  \n",
       "2                         -23.1                NORMAL  \n",
       "3                         -23.7                NORMAL  \n",
       "4                         -24.1                NORMAL  \n",
       "..                          ...                   ...  \n",
       "904                       -19.9  STAIRCASE DESCENDING  \n",
       "905                       -20.5  STAIRCASE DESCENDING  \n",
       "906                       -20.9  STAIRCASE DESCENDING  \n",
       "907                       -20.7  STAIRCASE DESCENDING  \n",
       "908                       -20.6  STAIRCASE DESCENDING  \n",
       "\n",
       "[909 rows x 8 columns]"
      ]
     },
     "execution_count": 5,
     "metadata": {},
     "output_type": "execute_result"
    }
   ],
   "source": [
    "df"
   ]
  },
  {
   "cell_type": "code",
   "execution_count": 6,
   "metadata": {},
   "outputs": [],
   "source": [
    "df['% Gait Cycle']=df['% Gait Cycle'].map(lambda x: x.rstrip(\"%\") )"
   ]
  },
  {
   "cell_type": "code",
   "execution_count": 7,
   "metadata": {},
   "outputs": [],
   "source": [
    "#Train-Test Spillting\n",
    "from sklearn.model_selection import train_test_split\n",
    "\n",
    "train_set,test_set=train_test_split(df,test_size=0.15,random_state=42)"
   ]
  },
  {
   "cell_type": "code",
   "execution_count": 8,
   "metadata": {},
   "outputs": [
    {
     "name": "stdout",
     "output_type": "stream",
     "text": [
      "Rows in train set:772\n",
      "Rows in test set:137\n",
      "\n"
     ]
    }
   ],
   "source": [
    "print(f\"Rows in train set:{len(train_set)}\\nRows in test set:{len(test_set)}\\n\")"
   ]
  },
  {
   "cell_type": "code",
   "execution_count": 9,
   "metadata": {},
   "outputs": [],
   "source": [
    "train_set_labels=train_set['Position'].copy()\n",
    "train_set=train_set.drop('Position',axis=1).copy()\n",
    "test_set_labels=test_set['Position'].copy()\n",
    "test_set=test_set.drop('Position',axis=1).copy()"
   ]
  },
  {
   "cell_type": "code",
   "execution_count": 10,
   "metadata": {},
   "outputs": [],
   "source": [
    "#Normalization\n",
    "from sklearn.preprocessing import MinMaxScaler\n",
    "scaler = MinMaxScaler(feature_range=(-1, 1))\n",
    "train_set = scaler.fit_transform(train_set)\n",
    "scaler = MinMaxScaler(feature_range=(-1, 1))\n",
    "test_set = scaler.fit_transform(test_set)"
   ]
  },
  {
   "cell_type": "code",
   "execution_count": 11,
   "metadata": {},
   "outputs": [],
   "source": [
    "#Spiltting into Train, Validation and Test\n",
    "train_set,val_set,train_set_labels,val_set_labels=train_test_split(train_set,train_set_labels,test_size=0.10,random_state=42)"
   ]
  },
  {
   "cell_type": "code",
   "execution_count": 12,
   "metadata": {},
   "outputs": [
    {
     "name": "stdout",
     "output_type": "stream",
     "text": [
      "Rows in train set:694\n",
      "Rows in validation set:137\n",
      "Rows in test set:78\n",
      "\n"
     ]
    }
   ],
   "source": [
    "print(f\"Rows in train set:{len(train_set)}\\nRows in validation set:{len(test_set)}\\nRows in test set:{len(val_set)}\\n\")"
   ]
  },
  {
   "cell_type": "code",
   "execution_count": null,
   "metadata": {},
   "outputs": [],
   "source": []
  },
  {
   "cell_type": "code",
   "execution_count": 13,
   "metadata": {},
   "outputs": [],
   "source": [
    "#Encoding the target variable\n",
    "from sklearn.preprocessing import LabelEncoder\n",
    "train_set_labels = LabelEncoder().fit_transform(train_set_labels)\n",
    "val_set_labels = LabelEncoder().fit_transform(val_set_labels)\n",
    "test_set_labels = LabelEncoder().fit_transform(test_set_labels)\n"
   ]
  },
  {
   "cell_type": "markdown",
   "metadata": {},
   "source": [
    "# Extreme Learning Machine (ELM) implementation\n",
    "The ELM algorithm is similar to other neural networks with 3 key differences:\n",
    "\n",
    "1.The number of hidden units is usually larger than in other neural networks that are trained using backpropagation.\n",
    "\n",
    "2.The weights from input to hidden layer are randomly generated, usually using values from a continuous uniform distribution.\n",
    "\n",
    "3.The output neurons are linear rather than sigmoidal, this means we can use least square errors regression to solve the output weights.\n",
    "\n",
    "Installation:\n",
    "pip install git+https://github.com/masaponto/python-elm"
   ]
  },
  {
   "cell_type": "code",
   "execution_count": 14,
   "metadata": {},
   "outputs": [
    {
     "name": "stdout",
     "output_type": "stream",
     "text": [
      "ELM Training Accuracy 0.886 \n",
      "ELM Validation Accuracy 0.910 \n",
      "ELM Testing Accuracy 0.686 \n",
      "              precision    recall  f1-score   support\n",
      "\n",
      "           0       0.00      0.00      0.00         7\n",
      "           1       1.00      1.00      1.00        12\n",
      "           2       0.91      1.00      0.95        10\n",
      "           3       1.00      1.00      1.00         8\n",
      "           4       0.75      1.00      0.86         9\n",
      "           5       1.00      1.00      1.00         5\n",
      "           6       1.00      1.00      1.00        10\n",
      "           7       0.78      1.00      0.88         7\n",
      "           8       0.91      1.00      0.95        10\n",
      "\n",
      "    accuracy                           0.91        78\n",
      "   macro avg       0.82      0.89      0.85        78\n",
      "weighted avg       0.84      0.91      0.87        78\n",
      "\n"
     ]
    },
    {
     "name": "stderr",
     "output_type": "stream",
     "text": [
      "/Users/pawelpratyush/opt/anaconda3/lib/python3.7/site-packages/sklearn/metrics/classification.py:1437: UndefinedMetricWarning: Precision and F-score are ill-defined and being set to 0.0 in labels with no predicted samples.\n",
      "  'precision', 'predicted', average, warn_for)\n"
     ]
    },
    {
     "data": {
      "text/plain": [
       "<matplotlib.axes._subplots.AxesSubplot at 0x110dbc550>"
      ]
     },
     "execution_count": 14,
     "metadata": {},
     "output_type": "execute_result"
    },
    {
     "data": {
      "image/png": "[encoded data removed]",
      "text/plain": [
       "<Figure size 432x288 with 2 Axes>"
      ]
     },
     "metadata": {
      "needs_background": "light"
     },
     "output_type": "display_data"
    }
   ],
   "source": [
    "from elm import ELM\n",
    "elm = ELM(hid_num=100000).fit(train_set, train_set_labels)\n",
    "print(\"ELM Training Accuracy %0.3f \" % elm.score(train_set,train_set_labels))\n",
    "print(\"ELM Validation Accuracy %0.3f \" % elm.score(val_set,val_set_labels))\n",
    "print(\"ELM Testing Accuracy %0.3f \" % elm.score(test_set,test_set_labels))\n",
    "validation_prediction=elm.predict(val_set)\n",
    "print(classification_report(val_set_labels, validation_prediction))\n",
    "sns.heatmap(confusion_matrix(val_set_labels, validation_prediction),annot=True,fmt=\"d\")"
   ]
  },
  {
   "cell_type": "code",
   "execution_count": 15,
   "metadata": {},
   "outputs": [
    {
     "data": {
      "image/png": "[encoded data removed]",
      "text/plain": [
       "<Figure size 700x500 with 1 Axes>"
      ]
     },
     "metadata": {
      "needs_background": "light"
     },
     "output_type": "display_data"
    }
   ],
   "source": [
    "import matplotlib.pyplot as plt\n",
    "%matplotlib inline\n",
    "plt.rcParams.update({'figure.figsize':(7,5), 'figure.dpi':100})\n",
    "a=elm.score(train_set,train_set_labels)*100\n",
    "b=elm.score(val_set,val_set_labels)*100\n",
    "c=elm.score(test_set,test_set_labels)*100\n",
    "y=[a,b,c]\n",
    "x=['Training','Validation','Testing']\n",
    "plt.bar(x,y)\n",
    "plt.xlabel('Accuracy')\n",
    "plt.ylabel(\"Values\")\n",
    "plt.title('Accuracy Comparision of ELM')\n",
    "plt.show()"
   ]
  },
  {
   "cell_type": "markdown",
   "metadata": {},
   "source": [
    "# Ensemble Learning (Random Forest Classifier)"
   ]
  },
  {
   "cell_type": "code",
   "execution_count": 16,
   "metadata": {},
   "outputs": [
    {
     "name": "stdout",
     "output_type": "stream",
     "text": [
      "Random Forest Training Score: \n",
      " 100.0\n",
      "Random Forest Validation Score: \n",
      " 98.72\n",
      "Random Forest Test Score: \n",
      " 94.16\n",
      "Accuracy: \n",
      " 0.9871794871794872\n",
      "              precision    recall  f1-score   support\n",
      "\n",
      "           0       0.88      1.00      0.93         7\n",
      "           1       1.00      1.00      1.00        12\n",
      "           2       1.00      1.00      1.00        10\n",
      "           3       1.00      1.00      1.00         8\n",
      "           4       1.00      0.89      0.94         9\n",
      "           5       1.00      1.00      1.00         5\n",
      "           6       1.00      1.00      1.00        10\n",
      "           7       1.00      1.00      1.00         7\n",
      "           8       1.00      1.00      1.00        10\n",
      "\n",
      "    accuracy                           0.99        78\n",
      "   macro avg       0.99      0.99      0.99        78\n",
      "weighted avg       0.99      0.99      0.99        78\n",
      "\n"
     ]
    },
    {
     "data": {
      "text/plain": [
       "<matplotlib.axes._subplots.AxesSubplot at 0x1369755d0>"
      ]
     },
     "execution_count": 16,
     "metadata": {},
     "output_type": "execute_result"
    },
    {
     "data": {
      "image/png": "[encoded data removed]",
      "text/plain": [
       "<Figure size 700x500 with 2 Axes>"
      ]
     },
     "metadata": {
      "needs_background": "light"
     },
     "output_type": "display_data"
    }
   ],
   "source": [
    "from sklearn.ensemble import RandomForestClassifier\n",
    "random_forest = RandomForestClassifier(n_estimators=100)\n",
    "random_forest.fit(train_set, train_set_labels)\n",
    "#Predict Output\n",
    "rf_predicted = random_forest.predict(val_set)\n",
    "random_forest_score = round(random_forest.score(train_set, train_set_labels) * 100, 2)\n",
    "random_forest_score_val =round(random_forest.score(val_set, val_set_labels) * 100, 2)\n",
    "random_forest_score_test = round(random_forest.score(test_set, test_set_labels) * 100, 2)\n",
    "print('Random Forest Training Score: \\n', random_forest_score)\n",
    "print('Random Forest Validation Score: \\n', random_forest_score_val)\n",
    "print('Random Forest Test Score: \\n', random_forest_score_test)\n",
    "print('Accuracy: \\n', accuracy_score(val_set_labels,rf_predicted))\n",
    "print(classification_report(val_set_labels,rf_predicted))\n",
    "sns.heatmap(confusion_matrix(val_set_labels,rf_predicted),annot=True,fmt=\"d\")"
   ]
  },
  {
   "cell_type": "markdown",
   "metadata": {},
   "source": [
    "# Multilayer Perceptron (ANN)"
   ]
  },
  {
   "cell_type": "code",
   "execution_count": 17,
   "metadata": {},
   "outputs": [
    {
     "name": "stdout",
     "output_type": "stream",
     "text": [
      "MLP classifier Training Score: \n",
      " 100.0\n",
      "MLP classifier Validation Score: \n",
      " 100.0\n",
      "MLP classifier Test Score: \n",
      " 100.0\n",
      "Accuracy: \n",
      " 1.0\n",
      "              precision    recall  f1-score   support\n",
      "\n",
      "           0       1.00      1.00      1.00         7\n",
      "           1       1.00      1.00      1.00        12\n",
      "           2       1.00      1.00      1.00        10\n",
      "           3       1.00      1.00      1.00         8\n",
      "           4       1.00      1.00      1.00         9\n",
      "           5       1.00      1.00      1.00         5\n",
      "           6       1.00      1.00      1.00        10\n",
      "           7       1.00      1.00      1.00         7\n",
      "           8       1.00      1.00      1.00        10\n",
      "\n",
      "    accuracy                           1.00        78\n",
      "   macro avg       1.00      1.00      1.00        78\n",
      "weighted avg       1.00      1.00      1.00        78\n",
      "\n"
     ]
    },
    {
     "data": {
      "text/plain": [
       "<matplotlib.axes._subplots.AxesSubplot at 0x132fe88d0>"
      ]
     },
     "execution_count": 17,
     "metadata": {},
     "output_type": "execute_result"
    },
    {
     "data": {
      "image/png": "[encoded data removed]",
      "text/plain": [
       "<Figure size 700x500 with 2 Axes>"
      ]
     },
     "metadata": {
      "needs_background": "light"
     },
     "output_type": "display_data"
    }
   ],
   "source": [
    "#MLP classifier\n",
    "from sklearn.neural_network import MLPClassifier\n",
    "clf = MLPClassifier(hidden_layer_sizes=(50,50,50),activation='tanh', max_iter=500, alpha=1e-4,\n",
    "                     solver='lbfgs', verbose=10,  random_state=21,tol=0.000000001)\n",
    "clf.fit(train_set,train_set_labels)\n",
    "#Predict Output \n",
    "y_pred = clf.predict(val_set)\n",
    "mlp_score = round(clf.score(train_set, train_set_labels) * 100, 2)\n",
    "mlp_score_test = round(clf.score(test_set, test_set_labels) * 100, 2)\n",
    "mlp_score_val =  round(clf.score(val_set, val_set_labels) * 100, 2)\n",
    "print('MLP classifier Training Score: \\n', mlp_score)\n",
    "print('MLP classifier Validation Score: \\n', mlp_score_val)\n",
    "print('MLP classifier Test Score: \\n', mlp_score_test)\n",
    "print('Accuracy: \\n', accuracy_score(val_set_labels,y_pred))\n",
    "print(classification_report(val_set_labels,y_pred))\n",
    "sns.heatmap(confusion_matrix(val_set_labels,y_pred),annot=True,fmt=\"d\")"
   ]
  },
  {
   "cell_type": "markdown",
   "metadata": {},
   "source": [
    "# SVM Classifier"
   ]
  },
  {
   "cell_type": "code",
   "execution_count": 18,
   "metadata": {},
   "outputs": [
    {
     "name": "stdout",
     "output_type": "stream",
     "text": [
      "SVM Training Score: \n",
      " 80.98\n",
      "SVM Validation Score: \n",
      " 82.05\n",
      "SVM Test Score: \n",
      " 67.88\n",
      "Accuracy: \n",
      " 0.8205128205128205\n",
      "Classification Report: \n",
      "               precision    recall  f1-score   support\n",
      "\n",
      "           0       0.33      0.71      0.45         7\n",
      "           1       1.00      0.92      0.96        12\n",
      "           2       1.00      1.00      1.00        10\n",
      "           3       1.00      1.00      1.00         8\n",
      "           4       0.57      0.44      0.50         9\n",
      "           5       1.00      1.00      1.00         5\n",
      "           6       1.00      1.00      1.00        10\n",
      "           7       1.00      0.14      0.25         7\n",
      "           8       0.91      1.00      0.95        10\n",
      "\n",
      "    accuracy                           0.82        78\n",
      "   macro avg       0.87      0.80      0.79        78\n",
      "weighted avg       0.88      0.82      0.81        78\n",
      "\n"
     ]
    },
    {
     "name": "stderr",
     "output_type": "stream",
     "text": [
      "/Users/pawelpratyush/opt/anaconda3/lib/python3.7/site-packages/sklearn/svm/base.py:193: FutureWarning: The default value of gamma will change from 'auto' to 'scale' in version 0.22 to account better for unscaled features. Set gamma explicitly to 'auto' or 'scale' to avoid this warning.\n",
      "  \"avoid this warning.\", FutureWarning)\n"
     ]
    },
    {
     "data": {
      "text/plain": [
       "<matplotlib.axes._subplots.AxesSubplot at 0x13310b610>"
      ]
     },
     "execution_count": 18,
     "metadata": {},
     "output_type": "execute_result"
    },
    {
     "data": {
      "image/png": "[encoded data removed]",
      "text/plain": [
       "<Figure size 700x500 with 2 Axes>"
      ]
     },
     "metadata": {
      "needs_background": "light"
     },
     "output_type": "display_data"
    }
   ],
   "source": [
    "from sklearn.svm import SVC\n",
    "svc = SVC()\n",
    "# Train the model using the training sets and check score\n",
    "svc.fit(train_set, train_set_labels)\n",
    "#Predict Output\n",
    "svc_predicted= svc.predict(val_set)\n",
    "svc_score = round(svc.score(train_set, train_set_labels) * 100, 2)\n",
    "svc_score_val = round(svc.score(val_set, val_set_labels) * 100, 2)\n",
    "svc_score_test = round(svc.score(test_set, test_set_labels) * 100, 2)\n",
    "print('SVM Training Score: \\n', svc_score)\n",
    "print('SVM Validation Score: \\n', svc_score_val)\n",
    "print('SVM Test Score: \\n', svc_score_test)\n",
    "print('Accuracy: \\n', accuracy_score(val_set_labels,svc_predicted))\n",
    "print('Classification Report: \\n', classification_report(val_set_labels,svc_predicted))\n",
    "\n",
    "sns.heatmap(confusion_matrix(val_set_labels,svc_predicted),annot=True,fmt=\"d\")"
   ]
  },
  {
   "cell_type": "markdown",
   "metadata": {},
   "source": [
    "# Model Comparision"
   ]
  },
  {
   "cell_type": "code",
   "execution_count": 19,
   "metadata": {},
   "outputs": [
    {
     "data": {
      "image/png": "[encoded data removed]",
      "text/plain": [
       "<Figure size 960x600 with 1 Axes>"
      ]
     },
     "metadata": {
      "needs_background": "light"
     },
     "output_type": "display_data"
    },
    {
     "data": {
      "image/png": "[encoded data removed]",
      "text/plain": [
       "<Figure size 960x600 with 1 Axes>"
      ]
     },
     "metadata": {
      "needs_background": "light"
     },
     "output_type": "display_data"
    },
    {
     "data": {
      "image/png": "[encoded data removed]",
      "text/plain": [
       "<Figure size 960x600 with 1 Axes>"
      ]
     },
     "metadata": {
      "needs_background": "light"
     },
     "output_type": "display_data"
    }
   ],
   "source": [
    "import matplotlib.pyplot as plt\n",
    "%matplotlib inline\n",
    "plt.rcParams.update({'figure.figsize':(8,5), 'figure.dpi':120})\n",
    "a=svc_score_val\n",
    "b=round(elm.score(val_set,val_set_labels)*100,2)\n",
    "c=random_forest_score_val\n",
    "d=mlp_score_val\n",
    "y=[a,b,c,d]\n",
    "x=['SVC','ELM','RandomForest','MultilayerPereceptron']\n",
    "plt.bar(x,y)\n",
    "plt.xlabel('Validation Accuracy')\n",
    "plt.ylabel(\"Values\")\n",
    "plt.title('1)VALIDATION')\n",
    "plt.show()\n",
    "a=svc_score_test\n",
    "b=round(elm.score(test_set,test_set_labels)*100,2)\n",
    "c=random_forest_score_test\n",
    "d=mlp_score_test\n",
    "y=[a,b,c,d]\n",
    "x=['SVC','ELM','RandomForest','MultilayerPereceptron']\n",
    "plt.bar(x,y)\n",
    "plt.xlabel('Testing Accuracy')\n",
    "plt.ylabel(\"Values\")\n",
    "plt.title('2)TESTING')\n",
    "plt.show()\n",
    "a=svc_score\n",
    "b=round(elm.score(train_set,train_set_labels)*100,2)\n",
    "c=random_forest_score\n",
    "d=mlp_score\n",
    "y=[a,b,c,d]\n",
    "x=['SVC','ELM','RandomForest','MultilayerPereceptron']\n",
    "plt.bar(x,y)\n",
    "plt.xlabel('Training Accuracy')\n",
    "plt.ylabel(\"Values\")\n",
    "plt.title('3)TRAINING')\n",
    "plt.show()"
   ]
  },
  {
   "cell_type": "code",
   "execution_count": null,
   "metadata": {},
   "outputs": [],
   "source": []
  }
 ],
 "metadata": {
  "kernelspec": {
   "display_name": "Python 3",
   "language": "python",
   "name": "python3"
  },
  "language_info": {
   "codemirror_mode": {
    "name": "ipython",
    "version": 3
   },
   "file_extension": ".py",
   "mimetype": "text/x-python",
   "name": "python",
   "nbconvert_exporter": "python",
   "pygments_lexer": "ipython3",
   "version": "3.7.4"
  }
 },
 "nbformat": 4,
 "nbformat_minor": 2
}
